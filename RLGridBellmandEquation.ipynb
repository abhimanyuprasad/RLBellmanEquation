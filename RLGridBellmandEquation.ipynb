{
 "cells": [
  {
   "cell_type": "code",
   "execution_count": 1,
   "metadata": {},
   "outputs": [
    {
     "name": "stdout",
     "output_type": "stream",
     "text": [
      "[[-59.42367735 -57.42387125 -54.2813141  -51.71012579]\n",
      " [-57.42387125 -54.56699476 -49.71029394 -45.13926711]\n",
      " [-54.2813141  -49.71029394 -40.85391609 -29.99766609]\n",
      " [-51.71012579 -45.13926711 -29.99766609   0.        ]]\n"
     ]
    }
   ],
   "source": [
    "import numpy as np\n",
    "\n",
    "def print_to_file(content, filename=\"output.txt\", mode=\"a\"):\n",
    "    \"\"\"\n",
    "    Print any content to a file\n",
    "    Args:\n",
    "        content: Any type of content (will be converted to string)\n",
    "        filename: Name of the output file (default: output.txt)\n",
    "        mode: File opening mode (default: append)\n",
    "    \"\"\"\n",
    "    with open(filename, mode) as f:\n",
    "        if isinstance(content, np.ndarray):\n",
    "            np.savetxt(f, content, fmt='%.8f')\n",
    "        else:\n",
    "            f.write(str(content) + \"\\n\")\n",
    "\n",
    "def value_iteration(grid_size=4, gamma=1.0, theta=1e-4):\n",
    "    N = grid_size\n",
    "    rewards = np.full((N, N), -1.0)  # Reward of -1 for each move\n",
    "    rewards[N-1, N-1] = 0  # Terminal states with reward 0\n",
    "    \n",
    "    V = np.zeros((N, N))  # Initialize value function to 0 for all states\n",
    "    actions = [(-1, 0), (1, 0), (0, -1), (0, 1)]  # Up, Down, Left, Right\n",
    "    \n",
    "    while True:\n",
    "        delta = 0  # Track max change in value function\n",
    "        V_new = np.copy(V)\n",
    "        \n",
    "        for i in range(N):\n",
    "            for j in range(N):\n",
    "                if (i == N-1 and j == N-1):\n",
    "                    continue  # Skip terminal states\n",
    "                \n",
    "                values = []\n",
    "                for action in actions:\n",
    "                    ni, nj = i + action[0], j + action[1]\n",
    "                    if 0 <= ni < N and 0 <= nj < N:\n",
    "                        values.append(0.25 * (rewards[i, j] + gamma * V[ni, nj]))  # Equal probability for all moves\n",
    "                    else:\n",
    "                        values.append(0.25 * (rewards[i, j] + gamma * V[i, j]))  # Stay in place if out of bounds\n",
    "                \n",
    "                V_new[i, j] = sum(values)  # Update value function using Bellman equation\n",
    "                delta = max(delta, abs(V_new[i, j] - V[i, j]))\n",
    "                \n",
    "                # Use the new function to log iterations\n",
    "                print_to_file(\"--------------------------------\")\n",
    "                print_to_file(abs(V_new[i, j] - V[i, j]))\n",
    "                print_to_file(V_new[i, j])\n",
    "                print_to_file(V[i, j])\n",
    "                print_to_file(f\"Position: ({i}, {j})\")\n",
    "                print_to_file(f\"New Value: {V_new[i, j]:.4f}\")\n",
    "                print_to_file(f\"Old Value: {V[i, j]:.4f}\")\n",
    "                print_to_file(f\"Delta: {delta:.4f}\")\n",
    "        \n",
    "        V = V_new  # Update value function\n",
    "        if delta < theta:\n",
    "            break  # Stop when values converge\n",
    "    \n",
    "    return V\n",
    "\n",
    "# Run Value Iteration\n",
    "\n",
    "def print_grid(str):\n",
    "    f = open(\"grid.txt\", \"a\")\n",
    "    f.write(str)\n",
    "    f.close()\n",
    "\n",
    "optimal_values = value_iteration()\n",
    "print_to_file(\"\\nFinal Value Function:\", mode=\"a\")\n",
    "print_to_file(optimal_values)\n",
    "print(optimal_values)\n"
   ]
  }
 ],
 "metadata": {
  "kernelspec": {
   "display_name": "Python 3",
   "language": "python",
   "name": "python3"
  },
  "language_info": {
   "codemirror_mode": {
    "name": "ipython",
    "version": 3
   },
   "file_extension": ".py",
   "mimetype": "text/x-python",
   "name": "python",
   "nbconvert_exporter": "python",
   "pygments_lexer": "ipython3",
   "version": "3.12.4"
  }
 },
 "nbformat": 4,
 "nbformat_minor": 2
}
